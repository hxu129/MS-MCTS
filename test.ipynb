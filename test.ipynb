{
 "cells": [
  {
   "cell_type": "code",
   "execution_count": 5,
   "id": "3d193120",
   "metadata": {},
   "outputs": [
    {
     "name": "stdout",
     "output_type": "stream",
     "text": [
      "2025-10-06 11:07:26,970:WARNING:matchms:add_precursor_mz:No precursor_mz found in metadata.\n",
      "2025-10-06 11:07:26,972:WARNING:matchms:add_precursor_mz:No precursor_mz found in metadata.\n",
      "Cosine score is 0.85 with 1 matched peaks\n"
     ]
    }
   ],
   "source": [
    "import numpy as np\n",
    "from matchms import Spectrum\n",
    "from matchms.similarity import CosineGreedy\n",
    "\n",
    "reference = Spectrum(mz=np.array([100, 150.5, 200.]),\n",
    "                     intensities=np.array([0.7, 0.2, 0.1]))\n",
    "query = Spectrum(mz=np.array([100, 140, 145, 150, 190.]),\n",
    "                 intensities=np.array([0.4, 0.1, 0.1, 0.1, 0.1]))\n",
    "\n",
    "# Use factory to construct a similarity function\n",
    "cosine_greedy = CosineGreedy(tolerance=0.2)\n",
    "\n",
    "score = cosine_greedy.pair(reference, query)\n",
    "\n",
    "print(f\"Cosine score is {score['score']:.2f} with {score['matches']} matched peaks\")"
   ]
  },
  {
   "cell_type": "code",
   "execution_count": null,
   "id": "9e53c8bf",
   "metadata": {},
   "outputs": [],
   "source": []
  }
 ],
 "metadata": {
  "kernelspec": {
   "display_name": "matchms",
   "language": "python",
   "name": "python3"
  },
  "language_info": {
   "codemirror_mode": {
    "name": "ipython",
    "version": 3
   },
   "file_extension": ".py",
   "mimetype": "text/x-python",
   "name": "python",
   "nbconvert_exporter": "python",
   "pygments_lexer": "ipython3",
   "version": "3.12.9"
  }
 },
 "nbformat": 4,
 "nbformat_minor": 5
}
